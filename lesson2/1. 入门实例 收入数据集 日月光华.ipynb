{
 "cells": [
  {
   "cell_type": "code",
   "execution_count": 1,
   "metadata": {
    "ExecuteTime": {
     "end_time": "2024-11-17T15:32:27.689532Z",
     "start_time": "2024-11-17T15:32:25.207663Z"
    }
   },
   "outputs": [],
   "source": [
    "import torch\n",
    "import pandas as pd\n",
    "import numpy as np\n",
    "import matplotlib.pyplot as plt             # 日月光华QQ ： 2774881979"
   ]
  },
  {
   "cell_type": "code",
   "execution_count": 2,
   "metadata": {
    "ExecuteTime": {
     "end_time": "2024-11-17T15:32:28.712931Z",
     "start_time": "2024-11-17T15:32:28.701933Z"
    }
   },
   "outputs": [
    {
     "data": {
      "text/plain": "'2.0.1+cu118'"
     },
     "execution_count": 2,
     "metadata": {},
     "output_type": "execute_result"
    }
   ],
   "source": [
    "torch.__version__"
   ]
  },
  {
   "cell_type": "code",
   "execution_count": 3,
   "metadata": {
    "ExecuteTime": {
     "end_time": "2024-11-17T15:32:29.188144Z",
     "start_time": "2024-11-17T15:32:29.174146Z"
    }
   },
   "outputs": [],
   "source": [
    "data = pd.read_csv('./Income1.csv')"
   ]
  },
  {
   "cell_type": "code",
   "execution_count": 4,
   "metadata": {
    "ExecuteTime": {
     "end_time": "2024-11-17T15:32:29.755413Z",
     "start_time": "2024-11-17T15:32:29.730414Z"
    }
   },
   "outputs": [
    {
     "data": {
      "text/plain": "   Unnamed: 0  Education     Income\n0           1  10.000000  26.658839\n1           2  10.401338  27.306435\n2           3  10.842809  22.132410\n3           4  11.244147  21.169841\n4           5  11.645485  15.192634",
      "text/html": "<div>\n<style scoped>\n    .dataframe tbody tr th:only-of-type {\n        vertical-align: middle;\n    }\n\n    .dataframe tbody tr th {\n        vertical-align: top;\n    }\n\n    .dataframe thead th {\n        text-align: right;\n    }\n</style>\n<table border=\"1\" class=\"dataframe\">\n  <thead>\n    <tr style=\"text-align: right;\">\n      <th></th>\n      <th>Unnamed: 0</th>\n      <th>Education</th>\n      <th>Income</th>\n    </tr>\n  </thead>\n  <tbody>\n    <tr>\n      <th>0</th>\n      <td>1</td>\n      <td>10.000000</td>\n      <td>26.658839</td>\n    </tr>\n    <tr>\n      <th>1</th>\n      <td>2</td>\n      <td>10.401338</td>\n      <td>27.306435</td>\n    </tr>\n    <tr>\n      <th>2</th>\n      <td>3</td>\n      <td>10.842809</td>\n      <td>22.132410</td>\n    </tr>\n    <tr>\n      <th>3</th>\n      <td>4</td>\n      <td>11.244147</td>\n      <td>21.169841</td>\n    </tr>\n    <tr>\n      <th>4</th>\n      <td>5</td>\n      <td>11.645485</td>\n      <td>15.192634</td>\n    </tr>\n  </tbody>\n</table>\n</div>"
     },
     "execution_count": 4,
     "metadata": {},
     "output_type": "execute_result"
    }
   ],
   "source": [
    "data.head()"
   ]
  },
  {
   "cell_type": "code",
   "execution_count": 5,
   "metadata": {
    "ExecuteTime": {
     "end_time": "2024-11-17T15:32:30.274355Z",
     "start_time": "2024-11-17T15:32:30.260354Z"
    }
   },
   "outputs": [
    {
     "name": "stdout",
     "output_type": "stream",
     "text": [
      "<class 'pandas.core.frame.DataFrame'>\n",
      "RangeIndex: 30 entries, 0 to 29\n",
      "Data columns (total 3 columns):\n",
      " #   Column      Non-Null Count  Dtype  \n",
      "---  ------      --------------  -----  \n",
      " 0   Unnamed: 0  30 non-null     int64  \n",
      " 1   Education   30 non-null     float64\n",
      " 2   Income      30 non-null     float64\n",
      "dtypes: float64(2), int64(1)\n",
      "memory usage: 848.0 bytes\n"
     ]
    }
   ],
   "source": [
    "data.info()"
   ]
  },
  {
   "cell_type": "code",
   "execution_count": 6,
   "metadata": {
    "ExecuteTime": {
     "end_time": "2024-11-17T15:32:30.882657Z",
     "start_time": "2024-11-17T15:32:30.740659Z"
    }
   },
   "outputs": [
    {
     "data": {
      "text/plain": "Text(0, 0.5, 'Income')"
     },
     "execution_count": 6,
     "metadata": {},
     "output_type": "execute_result"
    },
    {
     "data": {
      "text/plain": "<Figure size 640x480 with 1 Axes>",
      "image/png": "[encoded data removed]"
     },
     "metadata": {},
     "output_type": "display_data"
    }
   ],
   "source": [
    "plt.scatter(data.Education, data.Income)\n",
    "plt.xlabel('Education')\n",
    "plt.ylabel('Income')"
   ]
  },
  {
   "cell_type": "code",
   "execution_count": 7,
   "metadata": {
    "ExecuteTime": {
     "end_time": "2024-11-17T15:32:31.400163Z",
     "start_time": "2024-11-17T15:32:31.376167Z"
    }
   },
   "outputs": [],
   "source": [
    "X = torch.from_numpy(data.Education.values.reshape(-1, 1)).type(torch.FloatTensor)\n",
    "Y = torch.from_numpy(data.Income.values.reshape(-1, 1)).type(torch.FloatTensor)"
   ]
  },
  {
   "cell_type": "code",
   "execution_count": 8,
   "metadata": {
    "ExecuteTime": {
     "end_time": "2024-11-17T15:32:32.810419Z",
     "start_time": "2024-11-17T15:32:32.798424Z"
    }
   },
   "outputs": [
    {
     "data": {
      "text/plain": "(torch.Size([30, 1]), torch.Size([30, 1]))"
     },
     "execution_count": 8,
     "metadata": {},
     "output_type": "execute_result"
    }
   ],
   "source": [
    "X.shape, Y.shape"
   ]
  },
  {
   "cell_type": "code",
   "execution_count": 9,
   "metadata": {
    "ExecuteTime": {
     "end_time": "2024-11-17T15:32:33.784978Z",
     "start_time": "2024-11-17T15:32:33.768980Z"
    }
   },
   "outputs": [],
   "source": [
    "from torch import nn"
   ]
  },
  {
   "cell_type": "code",
   "execution_count": 10,
   "metadata": {
    "ExecuteTime": {
     "end_time": "2024-11-17T15:32:34.507164Z",
     "start_time": "2024-11-17T15:32:34.488164Z"
    }
   },
   "outputs": [],
   "source": [
    "# 必须继承自 nn.Module"
   ]
  },
  {
   "cell_type": "code",
   "execution_count": 11,
   "metadata": {
    "ExecuteTime": {
     "end_time": "2024-11-17T15:32:35.131393Z",
     "start_time": "2024-11-17T15:32:35.121397Z"
    }
   },
   "outputs": [],
   "source": [
    "class EIModel(nn.Module):\n",
    "    def __init__(self):\n",
    "        super(EIModel, self).__init__()\n",
    "        self.linear = nn.Linear(in_features=1, out_features=1)\n",
    "    def forward(self, inputs):\n",
    "        logits = self.linear(inputs)\n",
    "        return logits"
   ]
  },
  {
   "cell_type": "code",
   "execution_count": 12,
   "metadata": {
    "ExecuteTime": {
     "end_time": "2024-11-17T15:32:35.602640Z",
     "start_time": "2024-11-17T15:32:35.585640Z"
    }
   },
   "outputs": [],
   "source": [
    "model = EIModel()"
   ]
  },
  {
   "cell_type": "code",
   "execution_count": 13,
   "metadata": {
    "ExecuteTime": {
     "end_time": "2024-11-17T15:32:36.182955Z",
     "start_time": "2024-11-17T15:32:36.168954Z"
    }
   },
   "outputs": [
    {
     "data": {
      "text/plain": "EIModel(\n  (linear): Linear(in_features=1, out_features=1, bias=True)\n)"
     },
     "execution_count": 13,
     "metadata": {},
     "output_type": "execute_result"
    }
   ],
   "source": [
    "model"
   ]
  },
  {
   "cell_type": "code",
   "execution_count": 14,
   "metadata": {
    "ExecuteTime": {
     "end_time": "2024-11-17T15:32:36.646149Z",
     "start_time": "2024-11-17T15:32:36.640081Z"
    }
   },
   "outputs": [],
   "source": [
    "loss_fn = nn.MSELoss()"
   ]
  },
  {
   "cell_type": "code",
   "execution_count": 15,
   "metadata": {
    "ExecuteTime": {
     "end_time": "2024-11-17T15:32:37.022105Z",
     "start_time": "2024-11-17T15:32:37.011037Z"
    }
   },
   "outputs": [],
   "source": [
    "opt = torch.optim.SGD(model.parameters(), lr=0.0001)"
   ]
  },
  {
   "cell_type": "code",
   "execution_count": 16,
   "metadata": {
    "ExecuteTime": {
     "end_time": "2024-11-17T15:33:07.559852Z",
     "start_time": "2024-11-17T15:32:37.200810Z"
    }
   },
   "outputs": [],
   "source": [
    "for epoch in range(5000):\n",
    "    for x, y in zip(X, Y):\n",
    "        y_pred = model(x)\n",
    "        loss = loss_fn(y_pred, y)\n",
    "        opt.zero_grad()\n",
    "        loss.backward()\n",
    "        opt.step()"
   ]
  },
  {
   "cell_type": "code",
   "execution_count": 17,
   "metadata": {
    "ExecuteTime": {
     "end_time": "2024-11-17T15:33:07.575382Z",
     "start_time": "2024-11-17T15:33:07.560855Z"
    }
   },
   "outputs": [
    {
     "data": {
      "text/plain": "[Parameter containing:\n tensor([[4.9840]], requires_grad=True),\n Parameter containing:\n tensor([-28.5444], requires_grad=True)]"
     },
     "execution_count": 17,
     "metadata": {},
     "output_type": "execute_result"
    }
   ],
   "source": [
    "list(model.parameters())"
   ]
  },
  {
   "cell_type": "code",
   "execution_count": 18,
   "metadata": {
    "ExecuteTime": {
     "end_time": "2024-11-17T15:33:07.590905Z",
     "start_time": "2024-11-17T15:33:07.577386Z"
    }
   },
   "outputs": [
    {
     "data": {
      "text/plain": "[('linear.weight',\n  Parameter containing:\n  tensor([[4.9840]], requires_grad=True)),\n ('linear.bias',\n  Parameter containing:\n  tensor([-28.5444], requires_grad=True))]"
     },
     "execution_count": 18,
     "metadata": {},
     "output_type": "execute_result"
    }
   ],
   "source": [
    "list(model.named_parameters())"
   ]
  },
  {
   "cell_type": "code",
   "execution_count": 19,
   "metadata": {
    "ExecuteTime": {
     "end_time": "2024-11-17T15:33:07.605909Z",
     "start_time": "2024-11-17T15:33:07.592910Z"
    }
   },
   "outputs": [
    {
     "data": {
      "text/plain": "(Parameter containing:\n tensor([[4.9840]], requires_grad=True),\n Parameter containing:\n tensor([-28.5444], requires_grad=True))"
     },
     "execution_count": 19,
     "metadata": {},
     "output_type": "execute_result"
    }
   ],
   "source": [
    "model.linear.weight, model.linear.bias"
   ]
  },
  {
   "cell_type": "code",
   "execution_count": 20,
   "metadata": {
    "ExecuteTime": {
     "end_time": "2024-11-17T15:33:07.745359Z",
     "start_time": "2024-11-17T15:33:07.606911Z"
    }
   },
   "outputs": [
    {
     "data": {
      "text/plain": "[<matplotlib.lines.Line2D at 0x1fa8bcb4520>]"
     },
     "execution_count": 20,
     "metadata": {},
     "output_type": "execute_result"
    },
    {
     "data": {
      "text/plain": "<Figure size 640x480 with 1 Axes>",
      "image/png": "[encoded data removed]"
     },
     "metadata": {},
     "output_type": "display_data"
    }
   ],
   "source": [
    "plt.scatter(data.Education, data.Income)\n",
    "plt.xlabel('Education')\n",
    "plt.ylabel('Income')\n",
    "\n",
    "plt.plot(X, model(X).detach().numpy(), c='r')"
   ]
  },
  {
   "cell_type": "code",
   "execution_count": 21,
   "metadata": {
    "ExecuteTime": {
     "end_time": "2024-11-17T15:33:07.760890Z",
     "start_time": "2024-11-17T15:33:07.746362Z"
    }
   },
   "outputs": [
    {
     "ename": "SyntaxError",
     "evalue": "invalid decimal literal (3824883908.py, line 1)",
     "output_type": "error",
     "traceback": [
      "\u001B[1;36m  Cell \u001B[1;32mIn[21], line 1\u001B[1;36m\u001B[0m\n\u001B[1;33m    1.输入数据处理\u001B[0m\n\u001B[1;37m     ^\u001B[0m\n\u001B[1;31mSyntaxError\u001B[0m\u001B[1;31m:\u001B[0m invalid decimal literal\n"
     ]
    }
   ],
   "source": [
    "1.输入数据处理\n",
    "2.创建模型\n",
    "3.训练\n",
    "4.预测、评价"
   ]
  },
  {
   "cell_type": "code",
   "execution_count": null,
   "metadata": {
    "ExecuteTime": {
     "start_time": "2024-11-17T15:33:07.762894Z"
    }
   },
   "outputs": [],
   "source": []
  },
  {
   "cell_type": "code",
   "outputs": [],
   "source": [],
   "metadata": {
    "collapsed": false
   }
  }
 ],
 "metadata": {
  "kernelspec": {
   "name": "python3",
   "language": "python",
   "display_name": "Python 3 (ipykernel)"
  },
  "language_info": {
   "codemirror_mode": {
    "name": "ipython",
    "version": 3
   },
   "file_extension": ".py",
   "mimetype": "text/x-python",
   "name": "python",
   "nbconvert_exporter": "python",
   "pygments_lexer": "ipython3",
   "version": "3.8.10"
  }
 },
 "nbformat": 4,
 "nbformat_minor": 2
}
