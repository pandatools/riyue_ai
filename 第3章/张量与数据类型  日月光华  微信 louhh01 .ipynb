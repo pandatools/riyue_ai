{
 "cells": [
  {
   "cell_type": "code",
   "id": "42ce6b65",
   "metadata": {
    "ExecuteTime": {
     "end_time": "2024-11-19T02:41:40.559192Z",
     "start_time": "2024-11-19T02:41:39.549752Z"
    }
   },
   "source": [
    "# 日月光华微信 louhh01   完整课程均在网易云课堂\n",
    "\n",
    "import torch\n",
    "import numpy as np\n",
    "from PIL import Image"
   ],
   "outputs": [],
   "execution_count": 1
  },
  {
   "cell_type": "markdown",
   "id": "9d9f7988",
   "metadata": {},
   "source": [
    "# 初始化张量"
   ]
  },
  {
   "cell_type": "code",
   "id": "dfde7d7e",
   "metadata": {
    "ExecuteTime": {
     "end_time": "2024-11-19T02:41:46.149881Z",
     "start_time": "2024-11-19T02:41:46.146270Z"
    }
   },
   "source": [
    "t = torch.tensor([1., 2., 3.])"
   ],
   "outputs": [],
   "execution_count": 2
  },
  {
   "cell_type": "code",
   "id": "4dc82f02",
   "metadata": {
    "ExecuteTime": {
     "end_time": "2024-11-19T02:41:47.184335Z",
     "start_time": "2024-11-19T02:41:47.179745Z"
    }
   },
   "source": [
    "t"
   ],
   "outputs": [
    {
     "data": {
      "text/plain": [
       "tensor([1., 2., 3.])"
      ]
     },
     "execution_count": 3,
     "metadata": {},
     "output_type": "execute_result"
    }
   ],
   "execution_count": 3
  },
  {
   "cell_type": "code",
   "id": "0cba7c58",
   "metadata": {
    "ExecuteTime": {
     "end_time": "2024-11-19T02:41:49.076891Z",
     "start_time": "2024-11-19T02:41:49.073135Z"
    }
   },
   "source": [
    "t.dtype"
   ],
   "outputs": [
    {
     "data": {
      "text/plain": [
       "torch.float32"
      ]
     },
     "execution_count": 4,
     "metadata": {},
     "output_type": "execute_result"
    }
   ],
   "execution_count": 4
  },
  {
   "cell_type": "code",
   "id": "5434b11a",
   "metadata": {
    "ExecuteTime": {
     "end_time": "2024-11-19T02:41:52.467928Z",
     "start_time": "2024-11-19T02:41:52.465408Z"
    }
   },
   "source": [
    "t = torch.FloatTensor([1, 2, 3])"
   ],
   "outputs": [],
   "execution_count": 5
  },
  {
   "cell_type": "code",
   "id": "d6d53e5f",
   "metadata": {
    "ExecuteTime": {
     "end_time": "2024-11-19T02:41:52.843906Z",
     "start_time": "2024-11-19T02:41:52.841372Z"
    }
   },
   "source": [
    "t.dtype"
   ],
   "outputs": [
    {
     "data": {
      "text/plain": [
       "torch.float32"
      ]
     },
     "execution_count": 6,
     "metadata": {},
     "output_type": "execute_result"
    }
   ],
   "execution_count": 6
  },
  {
   "cell_type": "code",
   "id": "a8f2f7c7",
   "metadata": {
    "ExecuteTime": {
     "end_time": "2024-11-19T02:41:53.495371Z",
     "start_time": "2024-11-19T02:41:53.492908Z"
    }
   },
   "source": [
    "t = torch.LongTensor([1, 2])"
   ],
   "outputs": [],
   "execution_count": 7
  },
  {
   "cell_type": "code",
   "id": "e0e91815",
   "metadata": {
    "ExecuteTime": {
     "end_time": "2024-11-19T02:41:54.571785Z",
     "start_time": "2024-11-19T02:41:54.569041Z"
    }
   },
   "source": [
    "t.dtype"
   ],
   "outputs": [
    {
     "data": {
      "text/plain": [
       "torch.int64"
      ]
     },
     "execution_count": 8,
     "metadata": {},
     "output_type": "execute_result"
    }
   ],
   "execution_count": 8
  },
  {
   "cell_type": "code",
   "id": "77171376",
   "metadata": {
    "ExecuteTime": {
     "end_time": "2024-11-19T02:41:55.159756Z",
     "start_time": "2024-11-19T02:41:55.157749Z"
    }
   },
   "source": [
    "np_array = np.arange(12).reshape(3, 4)"
   ],
   "outputs": [],
   "execution_count": 9
  },
  {
   "cell_type": "code",
   "id": "70554b86",
   "metadata": {
    "ExecuteTime": {
     "end_time": "2024-11-19T02:41:59.939805Z",
     "start_time": "2024-11-19T02:41:59.936259Z"
    }
   },
   "source": [
    "np_array"
   ],
   "outputs": [
    {
     "data": {
      "text/plain": [
       "array([[ 0,  1,  2,  3],\n",
       "       [ 4,  5,  6,  7],\n",
       "       [ 8,  9, 10, 11]])"
      ]
     },
     "execution_count": 10,
     "metadata": {},
     "output_type": "execute_result"
    }
   ],
   "execution_count": 10
  },
  {
   "cell_type": "code",
   "id": "2ceaf892",
   "metadata": {
    "ExecuteTime": {
     "end_time": "2024-11-19T02:42:03.385873Z",
     "start_time": "2024-11-19T02:42:03.382657Z"
    }
   },
   "source": [
    "np_array.dtype"
   ],
   "outputs": [
    {
     "data": {
      "text/plain": [
       "dtype('int64')"
      ]
     },
     "execution_count": 11,
     "metadata": {},
     "output_type": "execute_result"
    }
   ],
   "execution_count": 11
  },
  {
   "cell_type": "code",
   "id": "f6b8c45d",
   "metadata": {
    "ExecuteTime": {
     "end_time": "2024-11-19T02:42:05.974136Z",
     "start_time": "2024-11-19T02:42:05.971013Z"
    }
   },
   "source": [
    "t = torch.from_numpy(np_array)"
   ],
   "outputs": [],
   "execution_count": 12
  },
  {
   "cell_type": "code",
   "id": "766438aa",
   "metadata": {
    "ExecuteTime": {
     "end_time": "2024-11-19T02:42:06.480832Z",
     "start_time": "2024-11-19T02:42:06.477744Z"
    }
   },
   "source": [
    "t"
   ],
   "outputs": [
    {
     "data": {
      "text/plain": [
       "tensor([[ 0,  1,  2,  3],\n",
       "        [ 4,  5,  6,  7],\n",
       "        [ 8,  9, 10, 11]])"
      ]
     },
     "execution_count": 13,
     "metadata": {},
     "output_type": "execute_result"
    }
   ],
   "execution_count": 13
  },
  {
   "cell_type": "code",
   "id": "bed5ac7e",
   "metadata": {
    "ExecuteTime": {
     "end_time": "2024-11-19T02:42:07.170948Z",
     "start_time": "2024-11-19T02:42:07.168910Z"
    }
   },
   "source": [
    "t = torch.tensor([1, 2, 3], dtype=torch.float32)"
   ],
   "outputs": [],
   "execution_count": 14
  },
  {
   "cell_type": "code",
   "id": "bd800192",
   "metadata": {
    "ExecuteTime": {
     "end_time": "2024-11-19T02:42:08.023952Z",
     "start_time": "2024-11-19T02:42:08.019729Z"
    }
   },
   "source": [
    "t"
   ],
   "outputs": [
    {
     "data": {
      "text/plain": [
       "tensor([1., 2., 3.])"
      ]
     },
     "execution_count": 15,
     "metadata": {},
     "output_type": "execute_result"
    }
   ],
   "execution_count": 15
  },
  {
   "cell_type": "code",
   "id": "8c882ded",
   "metadata": {
    "ExecuteTime": {
     "end_time": "2024-11-19T02:42:08.584456Z",
     "start_time": "2024-11-19T02:42:08.581794Z"
    }
   },
   "source": [
    "t.dtype"
   ],
   "outputs": [
    {
     "data": {
      "text/plain": [
       "torch.float32"
      ]
     },
     "execution_count": 16,
     "metadata": {},
     "output_type": "execute_result"
    }
   ],
   "execution_count": 16
  },
  {
   "cell_type": "code",
   "id": "c0d3a90b",
   "metadata": {
    "ExecuteTime": {
     "end_time": "2024-11-19T02:42:09.083054Z",
     "start_time": "2024-11-19T02:42:09.080978Z"
    }
   },
   "source": [
    "t = torch.tensor([1, 2, 3], dtype=torch.float)"
   ],
   "outputs": [],
   "execution_count": 17
  },
  {
   "cell_type": "code",
   "id": "8a192b47",
   "metadata": {
    "ExecuteTime": {
     "end_time": "2024-11-19T02:42:09.713187Z",
     "start_time": "2024-11-19T02:42:09.709577Z"
    }
   },
   "source": [
    "t"
   ],
   "outputs": [
    {
     "data": {
      "text/plain": [
       "tensor([1., 2., 3.])"
      ]
     },
     "execution_count": 18,
     "metadata": {},
     "output_type": "execute_result"
    }
   ],
   "execution_count": 18
  },
  {
   "cell_type": "code",
   "id": "865efa70",
   "metadata": {
    "ExecuteTime": {
     "end_time": "2024-11-19T02:42:09.956506Z",
     "start_time": "2024-11-19T02:42:09.953826Z"
    }
   },
   "source": [
    "t.dtype"
   ],
   "outputs": [
    {
     "data": {
      "text/plain": [
       "torch.float32"
      ]
     },
     "execution_count": 19,
     "metadata": {},
     "output_type": "execute_result"
    }
   ],
   "execution_count": 19
  },
  {
   "cell_type": "code",
   "id": "86f90bd0",
   "metadata": {
    "ExecuteTime": {
     "end_time": "2024-11-19T02:42:11.018829Z",
     "start_time": "2024-11-19T02:42:11.016681Z"
    }
   },
   "source": [
    "t = torch.tensor([1, 2, 3], dtype=torch.long)"
   ],
   "outputs": [],
   "execution_count": 20
  },
  {
   "cell_type": "code",
   "id": "75eac827",
   "metadata": {
    "ExecuteTime": {
     "end_time": "2024-11-19T02:42:11.462335Z",
     "start_time": "2024-11-19T02:42:11.459132Z"
    }
   },
   "source": [
    "t"
   ],
   "outputs": [
    {
     "data": {
      "text/plain": [
       "tensor([1, 2, 3])"
      ]
     },
     "execution_count": 21,
     "metadata": {},
     "output_type": "execute_result"
    }
   ],
   "execution_count": 21
  },
  {
   "cell_type": "code",
   "id": "3b301b66",
   "metadata": {
    "ExecuteTime": {
     "end_time": "2024-11-19T02:42:11.763483Z",
     "start_time": "2024-11-19T02:42:11.760570Z"
    }
   },
   "source": [
    "t.dtype"
   ],
   "outputs": [
    {
     "data": {
      "text/plain": [
       "torch.int64"
      ]
     },
     "execution_count": 22,
     "metadata": {},
     "output_type": "execute_result"
    }
   ],
   "execution_count": 22
  },
  {
   "cell_type": "code",
   "id": "bcb6d2ca",
   "metadata": {
    "ExecuteTime": {
     "end_time": "2024-11-19T02:42:12.239378Z",
     "start_time": "2024-11-19T02:42:12.235035Z"
    }
   },
   "source": [
    "torch.rand(2, 3)"
   ],
   "outputs": [
    {
     "data": {
      "text/plain": [
       "tensor([[0.1547, 0.8989, 0.8023],\n",
       "        [0.0269, 0.9699, 0.8377]])"
      ]
     },
     "execution_count": 23,
     "metadata": {},
     "output_type": "execute_result"
    }
   ],
   "execution_count": 23
  },
  {
   "cell_type": "code",
   "id": "29236161",
   "metadata": {
    "ExecuteTime": {
     "end_time": "2024-11-19T02:42:12.860271Z",
     "start_time": "2024-11-19T02:42:12.856142Z"
    }
   },
   "source": [
    "t = torch.randn(2, 3)"
   ],
   "outputs": [],
   "execution_count": 24
  },
  {
   "cell_type": "code",
   "id": "abac448f",
   "metadata": {
    "ExecuteTime": {
     "end_time": "2024-11-19T02:42:13.638025Z",
     "start_time": "2024-11-19T02:42:13.633660Z"
    }
   },
   "source": [
    "t"
   ],
   "outputs": [
    {
     "data": {
      "text/plain": [
       "tensor([[ 0.8586, -2.5115,  0.4317],\n",
       "        [-0.0865,  1.2257, -1.2727]])"
      ]
     },
     "execution_count": 25,
     "metadata": {},
     "output_type": "execute_result"
    }
   ],
   "execution_count": 25
  },
  {
   "cell_type": "code",
   "id": "f40d54cc",
   "metadata": {
    "ExecuteTime": {
     "end_time": "2024-11-19T02:42:14.551941Z",
     "start_time": "2024-11-19T02:42:14.548400Z"
    }
   },
   "source": [
    "t.shape"
   ],
   "outputs": [
    {
     "data": {
      "text/plain": [
       "torch.Size([2, 3])"
      ]
     },
     "execution_count": 26,
     "metadata": {},
     "output_type": "execute_result"
    }
   ],
   "execution_count": 26
  },
  {
   "cell_type": "code",
   "id": "27f6bb4b",
   "metadata": {
    "ExecuteTime": {
     "end_time": "2024-11-19T02:42:15.123037Z",
     "start_time": "2024-11-19T02:42:15.119443Z"
    }
   },
   "source": [
    "torch.zeros(3, 4)"
   ],
   "outputs": [
    {
     "data": {
      "text/plain": [
       "tensor([[0., 0., 0., 0.],\n",
       "        [0., 0., 0., 0.],\n",
       "        [0., 0., 0., 0.]])"
      ]
     },
     "execution_count": 27,
     "metadata": {},
     "output_type": "execute_result"
    }
   ],
   "execution_count": 27
  },
  {
   "cell_type": "code",
   "id": "c5d39828",
   "metadata": {
    "ExecuteTime": {
     "end_time": "2024-11-19T02:42:16.467184Z",
     "start_time": "2024-11-19T02:42:16.462916Z"
    }
   },
   "source": [
    "torch.ones(3, 2)"
   ],
   "outputs": [
    {
     "data": {
      "text/plain": [
       "tensor([[1., 1.],\n",
       "        [1., 1.],\n",
       "        [1., 1.]])"
      ]
     },
     "execution_count": 28,
     "metadata": {},
     "output_type": "execute_result"
    }
   ],
   "execution_count": 28
  },
  {
   "cell_type": "code",
   "id": "73527379",
   "metadata": {
    "ExecuteTime": {
     "end_time": "2024-11-19T02:42:17.350757Z",
     "start_time": "2024-11-19T02:42:17.347172Z"
    }
   },
   "source": [
    "t"
   ],
   "outputs": [
    {
     "data": {
      "text/plain": [
       "tensor([[ 0.8586, -2.5115,  0.4317],\n",
       "        [-0.0865,  1.2257, -1.2727]])"
      ]
     },
     "execution_count": 29,
     "metadata": {},
     "output_type": "execute_result"
    }
   ],
   "execution_count": 29
  },
  {
   "cell_type": "code",
   "id": "08146a0b",
   "metadata": {
    "ExecuteTime": {
     "end_time": "2024-11-19T02:42:23.903369Z",
     "start_time": "2024-11-19T02:42:23.900791Z"
    }
   },
   "source": [
    "t.dtype"
   ],
   "outputs": [
    {
     "data": {
      "text/plain": [
       "torch.float32"
      ]
     },
     "execution_count": 31,
     "metadata": {},
     "output_type": "execute_result"
    }
   ],
   "execution_count": 31
  },
  {
   "cell_type": "code",
   "id": "c6b60ced",
   "metadata": {
    "ExecuteTime": {
     "end_time": "2024-11-19T02:42:24.535273Z",
     "start_time": "2024-11-19T02:42:24.532848Z"
    }
   },
   "source": [
    "x = torch.zeros_like(t)"
   ],
   "outputs": [],
   "execution_count": 32
  },
  {
   "cell_type": "code",
   "id": "ede1b8ee",
   "metadata": {
    "ExecuteTime": {
     "end_time": "2024-11-19T02:42:25.182657Z",
     "start_time": "2024-11-19T02:42:25.179822Z"
    }
   },
   "source": [
    "x"
   ],
   "outputs": [
    {
     "data": {
      "text/plain": [
       "tensor([[0., 0., 0.],\n",
       "        [0., 0., 0.]])"
      ]
     },
     "execution_count": 33,
     "metadata": {},
     "output_type": "execute_result"
    }
   ],
   "execution_count": 33
  },
  {
   "cell_type": "code",
   "id": "477f9b1e",
   "metadata": {
    "ExecuteTime": {
     "end_time": "2024-11-19T02:42:25.618570Z",
     "start_time": "2024-11-19T02:42:25.616249Z"
    }
   },
   "source": [
    "x.dtype"
   ],
   "outputs": [
    {
     "data": {
      "text/plain": [
       "torch.float32"
      ]
     },
     "execution_count": 34,
     "metadata": {},
     "output_type": "execute_result"
    }
   ],
   "execution_count": 34
  },
  {
   "cell_type": "code",
   "id": "35b1c022",
   "metadata": {
    "ExecuteTime": {
     "end_time": "2024-11-19T02:42:26.089949Z",
     "start_time": "2024-11-19T02:42:26.087883Z"
    }
   },
   "source": [
    "x = torch.rand_like(t)"
   ],
   "outputs": [],
   "execution_count": 35
  },
  {
   "cell_type": "code",
   "id": "415021d0",
   "metadata": {
    "ExecuteTime": {
     "end_time": "2024-11-19T02:42:26.629546Z",
     "start_time": "2024-11-19T02:42:26.624952Z"
    }
   },
   "source": [
    "x"
   ],
   "outputs": [
    {
     "data": {
      "text/plain": [
       "tensor([[0.3992, 0.1711, 0.1954],\n",
       "        [0.9070, 0.0559, 0.3364]])"
      ]
     },
     "execution_count": 36,
     "metadata": {},
     "output_type": "execute_result"
    }
   ],
   "execution_count": 36
  },
  {
   "cell_type": "code",
   "id": "159e4b9d",
   "metadata": {
    "ExecuteTime": {
     "end_time": "2024-11-19T02:42:26.966926Z",
     "start_time": "2024-11-19T02:42:26.963418Z"
    }
   },
   "source": [
    "t.shape"
   ],
   "outputs": [
    {
     "data": {
      "text/plain": [
       "torch.Size([2, 3])"
      ]
     },
     "execution_count": 37,
     "metadata": {},
     "output_type": "execute_result"
    }
   ],
   "execution_count": 37
  },
  {
   "cell_type": "code",
   "id": "1a349f4b",
   "metadata": {
    "ExecuteTime": {
     "end_time": "2024-11-19T02:42:27.306481Z",
     "start_time": "2024-11-19T02:42:27.303344Z"
    }
   },
   "source": [
    "t.size()"
   ],
   "outputs": [
    {
     "data": {
      "text/plain": [
       "torch.Size([2, 3])"
      ]
     },
     "execution_count": 38,
     "metadata": {},
     "output_type": "execute_result"
    }
   ],
   "execution_count": 38
  },
  {
   "cell_type": "code",
   "id": "084c2671",
   "metadata": {
    "ExecuteTime": {
     "end_time": "2024-11-19T02:42:27.554645Z",
     "start_time": "2024-11-19T02:42:27.552241Z"
    }
   },
   "source": [
    "t.size(0)"
   ],
   "outputs": [
    {
     "data": {
      "text/plain": [
       "2"
      ]
     },
     "execution_count": 39,
     "metadata": {},
     "output_type": "execute_result"
    }
   ],
   "execution_count": 39
  },
  {
   "cell_type": "code",
   "id": "425c45c8",
   "metadata": {
    "ExecuteTime": {
     "end_time": "2024-11-19T02:42:27.744898Z",
     "start_time": "2024-11-19T02:42:27.742585Z"
    }
   },
   "source": [
    "t.size(1)"
   ],
   "outputs": [
    {
     "data": {
      "text/plain": [
       "3"
      ]
     },
     "execution_count": 40,
     "metadata": {},
     "output_type": "execute_result"
    }
   ],
   "execution_count": 40
  },
  {
   "cell_type": "code",
   "id": "e4d79967",
   "metadata": {
    "ExecuteTime": {
     "end_time": "2024-11-19T02:42:27.918983Z",
     "start_time": "2024-11-19T02:42:27.916563Z"
    }
   },
   "source": [
    "t.device"
   ],
   "outputs": [
    {
     "data": {
      "text/plain": [
       "device(type='cpu')"
      ]
     },
     "execution_count": 41,
     "metadata": {},
     "output_type": "execute_result"
    }
   ],
   "execution_count": 41
  },
  {
   "cell_type": "code",
   "id": "9e71b8ca",
   "metadata": {
    "ExecuteTime": {
     "end_time": "2024-11-19T02:42:28.087586Z",
     "start_time": "2024-11-19T02:42:28.085756Z"
    }
   },
   "source": [
    "if torch.cuda.is_available():\n",
    "    t = t.to('cuda')"
   ],
   "outputs": [],
   "execution_count": 42
  },
  {
   "cell_type": "code",
   "id": "8afe7d9b",
   "metadata": {
    "ExecuteTime": {
     "end_time": "2024-11-19T02:42:28.966125Z",
     "start_time": "2024-11-19T02:42:28.962911Z"
    }
   },
   "source": [
    "t.device"
   ],
   "outputs": [
    {
     "data": {
      "text/plain": [
       "device(type='cpu')"
      ]
     },
     "execution_count": 43,
     "metadata": {},
     "output_type": "execute_result"
    }
   ],
   "execution_count": 43
  },
  {
   "cell_type": "code",
   "id": "bf684a08",
   "metadata": {
    "ExecuteTime": {
     "end_time": "2024-11-19T02:42:29.380853Z",
     "start_time": "2024-11-19T02:42:29.378608Z"
    }
   },
   "source": [
    "t = t.to('cpu')"
   ],
   "outputs": [],
   "execution_count": 44
  },
  {
   "cell_type": "code",
   "id": "c1d0ee19",
   "metadata": {
    "ExecuteTime": {
     "end_time": "2024-11-19T02:42:32.840366Z",
     "start_time": "2024-11-19T02:42:32.837442Z"
    }
   },
   "source": [
    "t.device"
   ],
   "outputs": [
    {
     "data": {
      "text/plain": [
       "device(type='cpu')"
      ]
     },
     "execution_count": 45,
     "metadata": {},
     "output_type": "execute_result"
    }
   ],
   "execution_count": 45
  },
  {
   "cell_type": "markdown",
   "id": "57493b9a",
   "metadata": {},
   "source": [
    "# 数据类型的转换"
   ]
  },
  {
   "cell_type": "code",
   "id": "83f20779",
   "metadata": {
    "ExecuteTime": {
     "end_time": "2024-11-19T02:42:34.550713Z",
     "start_time": "2024-11-19T02:42:34.545279Z"
    }
   },
   "source": [
    "t"
   ],
   "outputs": [
    {
     "data": {
      "text/plain": [
       "tensor([[ 0.8586, -2.5115,  0.4317],\n",
       "        [-0.0865,  1.2257, -1.2727]])"
      ]
     },
     "execution_count": 46,
     "metadata": {},
     "output_type": "execute_result"
    }
   ],
   "execution_count": 46
  },
  {
   "cell_type": "code",
   "id": "cc26f432",
   "metadata": {
    "ExecuteTime": {
     "end_time": "2024-11-19T02:42:37.100358Z",
     "start_time": "2024-11-19T02:42:37.097236Z"
    }
   },
   "source": [
    "t.dtype"
   ],
   "outputs": [
    {
     "data": {
      "text/plain": [
       "torch.float32"
      ]
     },
     "execution_count": 47,
     "metadata": {},
     "output_type": "execute_result"
    }
   ],
   "execution_count": 47
  },
  {
   "cell_type": "code",
   "id": "8f359c38",
   "metadata": {
    "ExecuteTime": {
     "end_time": "2024-11-19T02:42:37.496629Z",
     "start_time": "2024-11-19T02:42:37.494436Z"
    }
   },
   "source": [
    "t = t.type(torch.float16)"
   ],
   "outputs": [],
   "execution_count": 48
  },
  {
   "cell_type": "code",
   "id": "f6484204",
   "metadata": {
    "ExecuteTime": {
     "end_time": "2024-11-19T02:42:38.108542Z",
     "start_time": "2024-11-19T02:42:38.105917Z"
    }
   },
   "source": [
    "t"
   ],
   "outputs": [
    {
     "data": {
      "text/plain": [
       "tensor([[ 0.8584, -2.5117,  0.4316],\n",
       "        [-0.0864,  1.2256, -1.2725]], dtype=torch.float16)"
      ]
     },
     "execution_count": 49,
     "metadata": {},
     "output_type": "execute_result"
    }
   ],
   "execution_count": 49
  },
  {
   "cell_type": "code",
   "id": "7e91acd1",
   "metadata": {
    "ExecuteTime": {
     "end_time": "2024-11-19T02:42:38.661081Z",
     "start_time": "2024-11-19T02:42:38.658872Z"
    }
   },
   "source": [
    "t.dtype"
   ],
   "outputs": [
    {
     "data": {
      "text/plain": [
       "torch.float16"
      ]
     },
     "execution_count": 50,
     "metadata": {},
     "output_type": "execute_result"
    }
   ],
   "execution_count": 50
  },
  {
   "cell_type": "code",
   "id": "17ea9997",
   "metadata": {
    "ExecuteTime": {
     "end_time": "2024-11-19T02:42:39.796916Z",
     "start_time": "2024-11-19T02:42:39.794951Z"
    }
   },
   "source": [
    "t = t.type(torch.int16)"
   ],
   "outputs": [],
   "execution_count": 51
  },
  {
   "cell_type": "code",
   "id": "6c087023",
   "metadata": {
    "ExecuteTime": {
     "end_time": "2024-11-19T02:42:40.514390Z",
     "start_time": "2024-11-19T02:42:40.511235Z"
    }
   },
   "source": [
    "t"
   ],
   "outputs": [
    {
     "data": {
      "text/plain": [
       "tensor([[ 0, -2,  0],\n",
       "        [ 0,  1, -1]], dtype=torch.int16)"
      ]
     },
     "execution_count": 52,
     "metadata": {},
     "output_type": "execute_result"
    }
   ],
   "execution_count": 52
  },
  {
   "cell_type": "raw",
   "id": "a53661c0",
   "metadata": {},
   "source": [
    ".long()  和  .float()\n",
    "int64        float32"
   ]
  },
  {
   "cell_type": "code",
   "id": "613a2247",
   "metadata": {
    "ExecuteTime": {
     "end_time": "2024-11-19T02:42:42.789882Z",
     "start_time": "2024-11-19T02:42:42.786605Z"
    }
   },
   "source": [
    "t = torch.randn(2, 3)"
   ],
   "outputs": [],
   "execution_count": 53
  },
  {
   "cell_type": "code",
   "id": "7ddf9553",
   "metadata": {
    "ExecuteTime": {
     "end_time": "2024-11-19T02:42:47.133984Z",
     "start_time": "2024-11-19T02:42:47.129781Z"
    }
   },
   "source": [
    "t"
   ],
   "outputs": [
    {
     "data": {
      "text/plain": [
       "tensor([[-1.8204,  0.8070,  1.1704],\n",
       "        [-0.7830,  1.7542, -0.3883]])"
      ]
     },
     "execution_count": 54,
     "metadata": {},
     "output_type": "execute_result"
    }
   ],
   "execution_count": 54
  },
  {
   "cell_type": "code",
   "id": "3d553ecf",
   "metadata": {
    "ExecuteTime": {
     "end_time": "2024-11-19T02:48:34.973304Z",
     "start_time": "2024-11-19T02:48:34.966581Z"
    }
   },
   "source": [
    "t.long()     # t.type(torch.int64)"
   ],
   "outputs": [
    {
     "data": {
      "text/plain": [
       "tensor([[-1,  0,  1],\n",
       "        [ 0,  1,  0]])"
      ]
     },
     "execution_count": 55,
     "metadata": {},
     "output_type": "execute_result"
    }
   ],
   "execution_count": 55
  },
  {
   "cell_type": "code",
   "id": "f5e719a9",
   "metadata": {
    "ExecuteTime": {
     "end_time": "2024-11-19T02:48:42.265963Z",
     "start_time": "2024-11-19T02:48:42.261761Z"
    }
   },
   "source": [
    "t.float()"
   ],
   "outputs": [
    {
     "data": {
      "text/plain": [
       "tensor([[-1.8204,  0.8070,  1.1704],\n",
       "        [-0.7830,  1.7542, -0.3883]])"
      ]
     },
     "execution_count": 56,
     "metadata": {},
     "output_type": "execute_result"
    }
   ],
   "execution_count": 56
  },
  {
   "cell_type": "markdown",
   "id": "3a47b177",
   "metadata": {},
   "source": [
    "# 张量运算"
   ]
  },
  {
   "cell_type": "code",
   "id": "d5dc64ab",
   "metadata": {
    "ExecuteTime": {
     "end_time": "2024-11-19T02:49:08.312557Z",
     "start_time": "2024-11-19T02:49:08.308276Z"
    }
   },
   "source": [
    "t"
   ],
   "outputs": [
    {
     "data": {
      "text/plain": [
       "tensor([[-1.8204,  0.8070,  1.1704],\n",
       "        [-0.7830,  1.7542, -0.3883]])"
      ]
     },
     "execution_count": 57,
     "metadata": {},
     "output_type": "execute_result"
    }
   ],
   "execution_count": 57
  },
  {
   "cell_type": "code",
   "id": "9c95fd7d",
   "metadata": {
    "ExecuteTime": {
     "end_time": "2024-11-19T02:49:08.984922Z",
     "start_time": "2024-11-19T02:49:08.979790Z"
    }
   },
   "source": [
    "t + 3"
   ],
   "outputs": [
    {
     "data": {
      "text/plain": [
       "tensor([[1.1796, 3.8070, 4.1704],\n",
       "        [2.2170, 4.7542, 2.6117]])"
      ]
     },
     "execution_count": 58,
     "metadata": {},
     "output_type": "execute_result"
    }
   ],
   "execution_count": 58
  },
  {
   "cell_type": "code",
   "id": "37cf0f99",
   "metadata": {
    "ExecuteTime": {
     "end_time": "2024-11-19T02:49:09.726933Z",
     "start_time": "2024-11-19T02:49:09.723840Z"
    }
   },
   "source": [
    "t1 = torch.ones(2, 3)"
   ],
   "outputs": [],
   "execution_count": 59
  },
  {
   "cell_type": "code",
   "id": "2f07fbee",
   "metadata": {
    "ExecuteTime": {
     "end_time": "2024-11-19T02:49:10.499734Z",
     "start_time": "2024-11-19T02:49:10.496776Z"
    }
   },
   "source": [
    "t1"
   ],
   "outputs": [
    {
     "data": {
      "text/plain": [
       "tensor([[1., 1., 1.],\n",
       "        [1., 1., 1.]])"
      ]
     },
     "execution_count": 60,
     "metadata": {},
     "output_type": "execute_result"
    }
   ],
   "execution_count": 60
  },
  {
   "cell_type": "code",
   "id": "d208d278",
   "metadata": {
    "ExecuteTime": {
     "end_time": "2024-11-19T02:49:12.333399Z",
     "start_time": "2024-11-19T02:49:12.329976Z"
    }
   },
   "source": [
    "t + t1"
   ],
   "outputs": [
    {
     "data": {
      "text/plain": [
       "tensor([[-0.8204,  1.8070,  2.1704],\n",
       "        [ 0.2170,  2.7542,  0.6117]])"
      ]
     },
     "execution_count": 61,
     "metadata": {},
     "output_type": "execute_result"
    }
   ],
   "execution_count": 61
  },
  {
   "cell_type": "code",
   "id": "7e6ceef1",
   "metadata": {
    "ExecuteTime": {
     "end_time": "2024-11-19T02:49:25.477795Z",
     "start_time": "2024-11-19T02:49:25.474316Z"
    }
   },
   "source": [
    "t.add(t1)"
   ],
   "outputs": [
    {
     "data": {
      "text/plain": [
       "tensor([[-0.8204,  1.8070,  2.1704],\n",
       "        [ 0.2170,  2.7542,  0.6117]])"
      ]
     },
     "execution_count": 62,
     "metadata": {},
     "output_type": "execute_result"
    }
   ],
   "execution_count": 62
  },
  {
   "cell_type": "code",
   "id": "970fa77b",
   "metadata": {
    "ExecuteTime": {
     "end_time": "2024-11-19T02:49:27.406320Z",
     "start_time": "2024-11-19T02:49:27.402716Z"
    }
   },
   "source": [
    "t"
   ],
   "outputs": [
    {
     "data": {
      "text/plain": [
       "tensor([[-1.8204,  0.8070,  1.1704],\n",
       "        [-0.7830,  1.7542, -0.3883]])"
      ]
     },
     "execution_count": 63,
     "metadata": {},
     "output_type": "execute_result"
    }
   ],
   "execution_count": 63
  },
  {
   "cell_type": "code",
   "execution_count": 70,
   "id": "de9ef2c8",
   "metadata": {},
   "outputs": [
    {
     "data": {
      "text/plain": [
       "tensor([[ 0.5327,  0.7223, -0.3591],\n",
       "        [-0.4651,  0.5906,  1.5008]])"
      ]
     },
     "execution_count": 70,
     "metadata": {},
     "output_type": "execute_result"
    }
   ],
   "source": [
    "t.add_(t1)"
   ]
  },
  {
   "cell_type": "code",
   "id": "5209ef7a",
   "metadata": {
    "ExecuteTime": {
     "end_time": "2024-11-19T02:51:01.025596Z",
     "start_time": "2024-11-19T02:51:01.018551Z"
    }
   },
   "source": [
    "t"
   ],
   "outputs": [
    {
     "data": {
      "text/plain": [
       "tensor([[-1.8204,  0.8070,  1.1704],\n",
       "        [-0.7830,  1.7542, -0.3883]])"
      ]
     },
     "execution_count": 64,
     "metadata": {},
     "output_type": "execute_result"
    }
   ],
   "execution_count": 64
  },
  {
   "cell_type": "code",
   "id": "c3be2cf0",
   "metadata": {
    "ExecuteTime": {
     "end_time": "2024-11-19T02:51:01.856743Z",
     "start_time": "2024-11-19T02:51:01.753998Z"
    }
   },
   "source": [
    "abs, mean, cumsum, multiply, divide"
   ],
   "outputs": [
    {
     "ename": "NameError",
     "evalue": "name 'mean' is not defined",
     "output_type": "error",
     "traceback": [
      "\u001B[0;31m---------------------------------------------------------------------------\u001B[0m",
      "\u001B[0;31mNameError\u001B[0m                                 Traceback (most recent call last)",
      "Cell \u001B[0;32mIn[65], line 1\u001B[0m\n\u001B[0;32m----> 1\u001B[0m \u001B[38;5;28mabs\u001B[39m, \u001B[43mmean\u001B[49m, cumsum, multiply, divide\n",
      "\u001B[0;31mNameError\u001B[0m: name 'mean' is not defined"
     ]
    }
   ],
   "execution_count": 65
  },
  {
   "cell_type": "code",
   "execution_count": 72,
   "id": "08071ccd",
   "metadata": {},
   "outputs": [
    {
     "data": {
      "text/plain": [
       "tensor([[0.5327, 0.7223, 0.3591],\n",
       "        [0.4651, 0.5906, 1.5008]])"
      ]
     },
     "execution_count": 72,
     "metadata": {},
     "output_type": "execute_result"
    }
   ],
   "source": [
    "torch.abs(t)"
   ]
  },
  {
   "cell_type": "code",
   "execution_count": 73,
   "id": "9110bfc5",
   "metadata": {},
   "outputs": [
    {
     "data": {
      "text/plain": [
       "tensor([[ 0.5327,  0.7223, -0.3591],\n",
       "        [-0.4651,  0.5906,  1.5008]])"
      ]
     },
     "execution_count": 73,
     "metadata": {},
     "output_type": "execute_result"
    }
   ],
   "source": [
    "t"
   ]
  },
  {
   "cell_type": "code",
   "execution_count": 74,
   "id": "0d03e511",
   "metadata": {},
   "outputs": [
    {
     "data": {
      "text/plain": [
       "tensor(0.4203)"
      ]
     },
     "execution_count": 74,
     "metadata": {},
     "output_type": "execute_result"
    }
   ],
   "source": [
    "torch.mean(t)"
   ]
  },
  {
   "cell_type": "code",
   "execution_count": 75,
   "id": "bd1c04ed",
   "metadata": {},
   "outputs": [
    {
     "data": {
      "text/plain": [
       "tensor(0.4203)"
      ]
     },
     "execution_count": 75,
     "metadata": {},
     "output_type": "execute_result"
    }
   ],
   "source": [
    "t.mean()"
   ]
  },
  {
   "cell_type": "code",
   "execution_count": 76,
   "id": "6ff32a17",
   "metadata": {},
   "outputs": [
    {
     "data": {
      "text/plain": [
       "tensor(2.5221)"
      ]
     },
     "execution_count": 76,
     "metadata": {},
     "output_type": "execute_result"
    }
   ],
   "source": [
    "t.sum()"
   ]
  },
  {
   "cell_type": "code",
   "execution_count": null,
   "id": "1a894320",
   "metadata": {},
   "outputs": [],
   "source": [
    "# matmul  矩阵乘法"
   ]
  },
  {
   "cell_type": "code",
   "execution_count": 79,
   "id": "f07ff062",
   "metadata": {},
   "outputs": [
    {
     "data": {
      "text/plain": [
       "tensor([[ 0.5327, -0.4651],\n",
       "        [ 0.7223,  0.5906],\n",
       "        [-0.3591,  1.5008]])"
      ]
     },
     "execution_count": 79,
     "metadata": {},
     "output_type": "execute_result"
    }
   ],
   "source": [
    "t.T     # 转置  shape  ： (3, 2)"
   ]
  },
  {
   "cell_type": "code",
   "execution_count": 80,
   "id": "e870df8f",
   "metadata": {},
   "outputs": [
    {
     "data": {
      "text/plain": [
       "tensor([[ 0.9344, -0.3601],\n",
       "        [-0.3601,  2.8174]])"
      ]
     },
     "execution_count": 80,
     "metadata": {},
     "output_type": "execute_result"
    }
   ],
   "source": [
    "t.matmul(t.T)"
   ]
  },
  {
   "cell_type": "code",
   "execution_count": 81,
   "id": "cf02ac30",
   "metadata": {},
   "outputs": [
    {
     "data": {
      "text/plain": [
       "tensor([[ 0.9344, -0.3601],\n",
       "        [-0.3601,  2.8174]])"
      ]
     },
     "execution_count": 81,
     "metadata": {},
     "output_type": "execute_result"
    }
   ],
   "source": [
    "t@(t.T)"
   ]
  },
  {
   "cell_type": "code",
   "execution_count": 83,
   "id": "ae692708",
   "metadata": {},
   "outputs": [
    {
     "data": {
      "text/plain": [
       "2.522092342376709"
      ]
     },
     "execution_count": 83,
     "metadata": {},
     "output_type": "execute_result"
    }
   ],
   "source": [
    "t.sum().item()"
   ]
  },
  {
   "cell_type": "code",
   "execution_count": 85,
   "id": "203f1d14",
   "metadata": {},
   "outputs": [],
   "source": [
    "result = t.mean()"
   ]
  },
  {
   "cell_type": "code",
   "execution_count": 88,
   "id": "ec4e35c3",
   "metadata": {},
   "outputs": [
    {
     "data": {
      "text/plain": [
       "0.42034873366355896"
      ]
     },
     "execution_count": 88,
     "metadata": {},
     "output_type": "execute_result"
    }
   ],
   "source": [
    "result.item()"
   ]
  },
  {
   "cell_type": "code",
   "execution_count": 89,
   "id": "f9c16e30",
   "metadata": {},
   "outputs": [],
   "source": [
    "t1 = torch.from_numpy(np.random.randn(3, 4))"
   ]
  },
  {
   "cell_type": "code",
   "execution_count": 90,
   "id": "0315cbc2",
   "metadata": {},
   "outputs": [
    {
     "data": {
      "text/plain": [
       "tensor([[ 0.2355, -0.2388,  0.2133, -0.1362],\n",
       "        [-0.5435,  1.3310, -0.1473,  0.3126],\n",
       "        [ 0.6296,  0.4738, -0.4539, -0.1988]], dtype=torch.float64)"
      ]
     },
     "execution_count": 90,
     "metadata": {},
     "output_type": "execute_result"
    }
   ],
   "source": [
    "t1"
   ]
  },
  {
   "cell_type": "code",
   "execution_count": 91,
   "id": "af09b076",
   "metadata": {},
   "outputs": [
    {
     "data": {
      "text/plain": [
       "array([[ 0.2354647 , -0.2388478 ,  0.21325789, -0.13618727],\n",
       "       [-0.54353796,  1.33095923, -0.14730685,  0.31263526],\n",
       "       [ 0.6296136 ,  0.47376939, -0.4539361 , -0.19877534]])"
      ]
     },
     "execution_count": 91,
     "metadata": {},
     "output_type": "execute_result"
    }
   ],
   "source": [
    "t1.numpy()"
   ]
  },
  {
   "cell_type": "code",
   "execution_count": 102,
   "id": "d27c74de",
   "metadata": {},
   "outputs": [
    {
     "data": {
      "image/png": "[encoded data removed]",
      "text/plain": [
       "<PIL.Image.Image image mode=RGB size=200x200 at 0x20733C89190>"
      ]
     },
     "execution_count": 102,
     "metadata": {},
     "output_type": "execute_result"
    }
   ],
   "source": [
    "Image.open(r'日月光华微信.jpg').resize((200, 200))"
   ]
  },
  {
   "cell_type": "markdown",
   "id": "e1afae9d",
   "metadata": {},
   "source": [
    "# 张量的变形与自动微分"
   ]
  },
  {
   "cell_type": "code",
   "execution_count": 103,
   "id": "f153e693",
   "metadata": {},
   "outputs": [],
   "source": [
    "t = torch.randn(4, 6)"
   ]
  },
  {
   "cell_type": "code",
   "execution_count": 104,
   "id": "0a2648f4",
   "metadata": {},
   "outputs": [
    {
     "data": {
      "text/plain": [
       "torch.Size([4, 6])"
      ]
     },
     "execution_count": 104,
     "metadata": {},
     "output_type": "execute_result"
    }
   ],
   "source": [
    "t.shape"
   ]
  },
  {
   "cell_type": "code",
   "execution_count": 105,
   "id": "62844946",
   "metadata": {},
   "outputs": [
    {
     "data": {
      "text/plain": [
       "tensor([[ 0.6944, -0.0537,  0.9996, -0.7229,  0.3247,  0.9973],\n",
       "        [-0.7198,  1.8806,  1.3363,  1.0986, -1.6875,  0.1862],\n",
       "        [ 2.2250, -0.4404, -0.3617,  1.1283,  0.4459,  0.2039],\n",
       "        [-2.2014, -0.9815, -0.1707,  0.5598, -0.3142, -1.3065]])"
      ]
     },
     "execution_count": 105,
     "metadata": {},
     "output_type": "execute_result"
    }
   ],
   "source": [
    "t"
   ]
  },
  {
   "cell_type": "code",
   "execution_count": 107,
   "id": "73f8ec86",
   "metadata": {},
   "outputs": [],
   "source": [
    "t1 = t.view(3, 8)"
   ]
  },
  {
   "cell_type": "code",
   "execution_count": 108,
   "id": "0561b810",
   "metadata": {},
   "outputs": [
    {
     "data": {
      "text/plain": [
       "torch.Size([3, 8])"
      ]
     },
     "execution_count": 108,
     "metadata": {},
     "output_type": "execute_result"
    }
   ],
   "source": [
    "t1.shape"
   ]
  },
  {
   "cell_type": "code",
   "execution_count": 109,
   "id": "9734c66f",
   "metadata": {},
   "outputs": [],
   "source": [
    "t2 = t.view(2, 12)"
   ]
  },
  {
   "cell_type": "code",
   "execution_count": 110,
   "id": "4eb55277",
   "metadata": {},
   "outputs": [
    {
     "data": {
      "text/plain": [
       "tensor([[ 0.6944, -0.0537,  0.9996, -0.7229,  0.3247,  0.9973, -0.7198,  1.8806,\n",
       "          1.3363,  1.0986, -1.6875,  0.1862],\n",
       "        [ 2.2250, -0.4404, -0.3617,  1.1283,  0.4459,  0.2039, -2.2014, -0.9815,\n",
       "         -0.1707,  0.5598, -0.3142, -1.3065]])"
      ]
     },
     "execution_count": 110,
     "metadata": {},
     "output_type": "execute_result"
    }
   ],
   "source": [
    "t2"
   ]
  },
  {
   "cell_type": "code",
   "execution_count": 111,
   "id": "efc5123f",
   "metadata": {},
   "outputs": [
    {
     "ename": "RuntimeError",
     "evalue": "shape '[2, 5]' is invalid for input of size 24",
     "output_type": "error",
     "traceback": [
      "\u001B[1;31m-------------------------------------------------------------------------\u001B[0m",
      "\u001B[1;31mRuntimeError\u001B[0m                            Traceback (most recent call last)",
      "\u001B[1;32m<ipython-input-111-9c8bbaa040a7>\u001B[0m in \u001B[0;36m<module>\u001B[1;34m\u001B[0m\n\u001B[1;32m----> 1\u001B[1;33m \u001B[0mt\u001B[0m\u001B[1;33m.\u001B[0m\u001B[0mview\u001B[0m\u001B[1;33m(\u001B[0m\u001B[1;36m2\u001B[0m\u001B[1;33m,\u001B[0m \u001B[1;36m5\u001B[0m\u001B[1;33m)\u001B[0m\u001B[1;33m\u001B[0m\u001B[1;33m\u001B[0m\u001B[0m\n\u001B[0m",
      "\u001B[1;31mRuntimeError\u001B[0m: shape '[2, 5]' is invalid for input of size 24"
     ]
    }
   ],
   "source": [
    "t.view(2, 5)"
   ]
  },
  {
   "cell_type": "code",
   "execution_count": 112,
   "id": "7967cf13",
   "metadata": {},
   "outputs": [
    {
     "data": {
      "text/plain": [
       "tensor([[ 0.6944, -0.0537,  0.9996, -0.7229,  0.3247,  0.9973],\n",
       "        [-0.7198,  1.8806,  1.3363,  1.0986, -1.6875,  0.1862],\n",
       "        [ 2.2250, -0.4404, -0.3617,  1.1283,  0.4459,  0.2039],\n",
       "        [-2.2014, -0.9815, -0.1707,  0.5598, -0.3142, -1.3065]])"
      ]
     },
     "execution_count": 112,
     "metadata": {},
     "output_type": "execute_result"
    }
   ],
   "source": [
    "t"
   ]
  },
  {
   "cell_type": "code",
   "execution_count": 113,
   "id": "920885b8",
   "metadata": {},
   "outputs": [
    {
     "data": {
      "text/plain": [
       "tensor([[ 0.6944],\n",
       "        [-0.0537],\n",
       "        [ 0.9996],\n",
       "        [-0.7229],\n",
       "        [ 0.3247],\n",
       "        [ 0.9973],\n",
       "        [-0.7198],\n",
       "        [ 1.8806],\n",
       "        [ 1.3363],\n",
       "        [ 1.0986],\n",
       "        [-1.6875],\n",
       "        [ 0.1862],\n",
       "        [ 2.2250],\n",
       "        [-0.4404],\n",
       "        [-0.3617],\n",
       "        [ 1.1283],\n",
       "        [ 0.4459],\n",
       "        [ 0.2039],\n",
       "        [-2.2014],\n",
       "        [-0.9815],\n",
       "        [-0.1707],\n",
       "        [ 0.5598],\n",
       "        [-0.3142],\n",
       "        [-1.3065]])"
      ]
     },
     "execution_count": 113,
     "metadata": {},
     "output_type": "execute_result"
    }
   ],
   "source": [
    "t.view(-1, 1)   #  24,1"
   ]
  },
  {
   "cell_type": "code",
   "execution_count": 115,
   "id": "4fd4cb41",
   "metadata": {},
   "outputs": [],
   "source": [
    "t = torch.randn(12, 3, 4, 4)"
   ]
  },
  {
   "cell_type": "code",
   "execution_count": 116,
   "id": "e70b1e56",
   "metadata": {},
   "outputs": [],
   "source": [
    "t1 = t.view(12, 3*4*4)"
   ]
  },
  {
   "cell_type": "code",
   "execution_count": 117,
   "id": "fb7b206d",
   "metadata": {},
   "outputs": [
    {
     "data": {
      "text/plain": [
       "torch.Size([12, 48])"
      ]
     },
     "execution_count": 117,
     "metadata": {},
     "output_type": "execute_result"
    }
   ],
   "source": [
    "t1.shape"
   ]
  },
  {
   "cell_type": "code",
   "execution_count": 119,
   "id": "41160304",
   "metadata": {},
   "outputs": [
    {
     "data": {
      "text/plain": [
       "torch.Size([12, 48])"
      ]
     },
     "execution_count": 119,
     "metadata": {},
     "output_type": "execute_result"
    }
   ],
   "source": [
    "t1.shape"
   ]
  },
  {
   "cell_type": "code",
   "execution_count": 120,
   "id": "3123a87e",
   "metadata": {},
   "outputs": [],
   "source": [
    "t1 = t1.view(1, 12, 48)"
   ]
  },
  {
   "cell_type": "code",
   "execution_count": 121,
   "id": "940d7c99",
   "metadata": {},
   "outputs": [
    {
     "data": {
      "text/plain": [
       "torch.Size([1, 12, 48])"
      ]
     },
     "execution_count": 121,
     "metadata": {},
     "output_type": "execute_result"
    }
   ],
   "source": [
    "t1.shape"
   ]
  },
  {
   "cell_type": "code",
   "execution_count": 122,
   "id": "f72bc9f1",
   "metadata": {},
   "outputs": [],
   "source": [
    "t2 = torch.squeeze(t1)"
   ]
  },
  {
   "cell_type": "code",
   "execution_count": 123,
   "id": "fe1269ac",
   "metadata": {},
   "outputs": [
    {
     "data": {
      "text/plain": [
       "torch.Size([12, 48])"
      ]
     },
     "execution_count": 123,
     "metadata": {},
     "output_type": "execute_result"
    }
   ],
   "source": [
    "t2.shape"
   ]
  },
  {
   "cell_type": "markdown",
   "id": "7e33dbb0",
   "metadata": {},
   "source": [
    "# 张量的自动微分"
   ]
  },
  {
   "cell_type": "code",
   "execution_count": 125,
   "id": "887e83d9",
   "metadata": {},
   "outputs": [
    {
     "data": {
      "text/plain": [
       "False"
      ]
     },
     "execution_count": 125,
     "metadata": {},
     "output_type": "execute_result"
    }
   ],
   "source": [
    "t.requires_grad"
   ]
  },
  {
   "cell_type": "code",
   "execution_count": 155,
   "id": "d0d89b3c",
   "metadata": {},
   "outputs": [],
   "source": [
    "t = torch.ones(2, 2, requires_grad=True)"
   ]
  },
  {
   "cell_type": "code",
   "execution_count": 156,
   "id": "46ad1c2b",
   "metadata": {},
   "outputs": [
    {
     "data": {
      "text/plain": [
       "True"
      ]
     },
     "execution_count": 156,
     "metadata": {},
     "output_type": "execute_result"
    }
   ],
   "source": [
    "t.requires_grad"
   ]
  },
  {
   "cell_type": "code",
   "execution_count": 158,
   "id": "1589dd43",
   "metadata": {},
   "outputs": [],
   "source": [
    "y = t + 5"
   ]
  },
  {
   "cell_type": "code",
   "execution_count": 159,
   "id": "a3779d14",
   "metadata": {},
   "outputs": [
    {
     "data": {
      "text/plain": [
       "<AddBackward0 at 0x2074281cca0>"
      ]
     },
     "execution_count": 159,
     "metadata": {},
     "output_type": "execute_result"
    }
   ],
   "source": [
    "y.grad_fn    # grad_fn 返回计算得到此张量的方法"
   ]
  },
  {
   "cell_type": "code",
   "execution_count": 160,
   "id": "f4a0248b",
   "metadata": {},
   "outputs": [
    {
     "data": {
      "text/plain": [
       "True"
      ]
     },
     "execution_count": 160,
     "metadata": {},
     "output_type": "execute_result"
    }
   ],
   "source": [
    "y.requires_grad"
   ]
  },
  {
   "cell_type": "code",
   "execution_count": 161,
   "id": "0f1b4876",
   "metadata": {},
   "outputs": [],
   "source": [
    "z = y * 2"
   ]
  },
  {
   "cell_type": "code",
   "execution_count": 162,
   "id": "9af422ca",
   "metadata": {},
   "outputs": [],
   "source": [
    "out = z.mean()"
   ]
  },
  {
   "cell_type": "code",
   "execution_count": 136,
   "id": "f3b48658",
   "metadata": {},
   "outputs": [
    {
     "data": {
      "text/plain": [
       "tensor(12., grad_fn=<MeanBackward0>)"
      ]
     },
     "execution_count": 136,
     "metadata": {},
     "output_type": "execute_result"
    }
   ],
   "source": [
    "out    # 标量值"
   ]
  },
  {
   "cell_type": "code",
   "execution_count": 163,
   "id": "9068ab23",
   "metadata": {},
   "outputs": [],
   "source": [
    "out.backward()"
   ]
  },
  {
   "cell_type": "code",
   "execution_count": 138,
   "id": "007b9b59",
   "metadata": {},
   "outputs": [
    {
     "data": {
      "text/plain": [
       "tensor([[0.5000, 0.5000],\n",
       "        [0.5000, 0.5000]])"
      ]
     },
     "execution_count": 138,
     "metadata": {},
     "output_type": "execute_result"
    }
   ],
   "source": [
    "t.grad   # 打印t的梯度， d（out）/d(t)"
   ]
  },
  {
   "cell_type": "code",
   "execution_count": 139,
   "id": "16aea3da",
   "metadata": {},
   "outputs": [],
   "source": [
    "# grad 这个属性记录计算得到的梯度"
   ]
  },
  {
   "cell_type": "code",
   "execution_count": 140,
   "id": "8d317d30",
   "metadata": {},
   "outputs": [
    {
     "data": {
      "text/plain": [
       "tensor([[0.5000, 0.5000],\n",
       "        [0.5000, 0.5000]])"
      ]
     },
     "execution_count": 140,
     "metadata": {},
     "output_type": "execute_result"
    }
   ],
   "source": [
    "t.grad"
   ]
  },
  {
   "cell_type": "code",
   "execution_count": 141,
   "id": "b9a31c50",
   "metadata": {},
   "outputs": [],
   "source": [
    "t.grad_fn"
   ]
  },
  {
   "cell_type": "code",
   "execution_count": 142,
   "id": "df9b9494",
   "metadata": {},
   "outputs": [
    {
     "data": {
      "text/plain": [
       "<MeanBackward0 at 0x20742723e20>"
      ]
     },
     "execution_count": 142,
     "metadata": {},
     "output_type": "execute_result"
    }
   ],
   "source": [
    "out.grad_fn"
   ]
  },
  {
   "cell_type": "code",
   "execution_count": 143,
   "id": "4af9d120",
   "metadata": {},
   "outputs": [
    {
     "data": {
      "text/plain": [
       "tensor([[1., 1.],\n",
       "        [1., 1.]], requires_grad=True)"
      ]
     },
     "execution_count": 143,
     "metadata": {},
     "output_type": "execute_result"
    }
   ],
   "source": [
    " t"
   ]
  },
  {
   "cell_type": "code",
   "execution_count": 144,
   "id": "5d70c764",
   "metadata": {},
   "outputs": [
    {
     "name": "stdout",
     "output_type": "stream",
     "text": [
      "False\n"
     ]
    }
   ],
   "source": [
    "with torch.no_grad():\n",
    "    y = t + 2\n",
    "    print(y.requires_grad)"
   ]
  },
  {
   "cell_type": "code",
   "execution_count": 145,
   "id": "bb2d3378",
   "metadata": {},
   "outputs": [
    {
     "data": {
      "text/plain": [
       "tensor([[1., 1.],\n",
       "        [1., 1.]], requires_grad=True)"
      ]
     },
     "execution_count": 145,
     "metadata": {},
     "output_type": "execute_result"
    }
   ],
   "source": [
    "t"
   ]
  },
  {
   "cell_type": "code",
   "execution_count": 146,
   "id": "064ab4ff",
   "metadata": {},
   "outputs": [
    {
     "data": {
      "text/plain": [
       "tensor([[1., 1.],\n",
       "        [1., 1.]])"
      ]
     },
     "execution_count": 146,
     "metadata": {},
     "output_type": "execute_result"
    }
   ],
   "source": [
    "t.requires_grad_(False)"
   ]
  },
  {
   "cell_type": "code",
   "execution_count": 147,
   "id": "a78d1af7",
   "metadata": {},
   "outputs": [
    {
     "data": {
      "text/plain": [
       "False"
      ]
     },
     "execution_count": 147,
     "metadata": {},
     "output_type": "execute_result"
    }
   ],
   "source": [
    "t.requires_grad"
   ]
  },
  {
   "cell_type": "code",
   "execution_count": 169,
   "id": "b9704723",
   "metadata": {},
   "outputs": [
    {
     "data": {
      "text/plain": [
       "tensor(12., grad_fn=<MeanBackward0>)"
      ]
     },
     "execution_count": 169,
     "metadata": {},
     "output_type": "execute_result"
    }
   ],
   "source": [
    "out"
   ]
  },
  {
   "cell_type": "code",
   "execution_count": 170,
   "id": "76cb7068",
   "metadata": {},
   "outputs": [],
   "source": [
    "result = out.detach()"
   ]
  },
  {
   "cell_type": "code",
   "execution_count": 171,
   "id": "e953c328",
   "metadata": {},
   "outputs": [
    {
     "data": {
      "text/plain": [
       "False"
      ]
     },
     "execution_count": 171,
     "metadata": {},
     "output_type": "execute_result"
    }
   ],
   "source": [
    "result.requires_grad"
   ]
  },
  {
   "cell_type": "code",
   "execution_count": 172,
   "id": "fcd4ea4a",
   "metadata": {},
   "outputs": [
    {
     "data": {
      "text/plain": [
       "tensor(12.)"
      ]
     },
     "execution_count": 172,
     "metadata": {},
     "output_type": "execute_result"
    }
   ],
   "source": [
    "out.data"
   ]
  },
  {
   "cell_type": "code",
   "execution_count": null,
   "id": "32ca560c",
   "metadata": {},
   "outputs": [],
   "source": []
  }
 ],
 "metadata": {
  "kernelspec": {
   "display_name": "Python 3 (ipykernel)",
   "language": "python",
   "name": "python3"
  },
  "language_info": {
   "codemirror_mode": {
    "name": "ipython",
    "version": 3
   },
   "file_extension": ".py",
   "mimetype": "text/x-python",
   "name": "python",
   "nbconvert_exporter": "python",
   "pygments_lexer": "ipython3",
   "version": "3.8.10"
  }
 },
 "nbformat": 4,
 "nbformat_minor": 5
}
